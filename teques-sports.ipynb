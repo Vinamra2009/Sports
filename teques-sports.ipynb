{
 "cells": [
  {
   "cell_type": "code",
   "execution_count": 5,
   "metadata": {},
   "outputs": [],
   "source": [
    "#Import pandas library\n",
    "import pandas as pd"
   ]
  },
  {
   "cell_type": "code",
   "execution_count": 6,
   "metadata": {},
   "outputs": [],
   "source": [
    "#read the dataset\n",
    "df=pd.read_csv('real.csv')"
   ]
  },
  {
   "cell_type": "code",
   "execution_count": 7,
   "metadata": {},
   "outputs": [
    {
     "data": {
      "text/html": [
       "<div>\n",
       "<style scoped>\n",
       "    .dataframe tbody tr th:only-of-type {\n",
       "        vertical-align: middle;\n",
       "    }\n",
       "\n",
       "    .dataframe tbody tr th {\n",
       "        vertical-align: top;\n",
       "    }\n",
       "\n",
       "    .dataframe thead th {\n",
       "        text-align: right;\n",
       "    }\n",
       "</style>\n",
       "<table border=\"1\" class=\"dataframe\">\n",
       "  <thead>\n",
       "    <tr style=\"text-align: right;\">\n",
       "      <th></th>\n",
       "      <th>sports</th>\n",
       "      <th>Height</th>\n",
       "      <th>Weight</th>\n",
       "      <th>BMI</th>\n",
       "    </tr>\n",
       "  </thead>\n",
       "  <tbody>\n",
       "    <tr>\n",
       "      <td>0</td>\n",
       "      <td>cricket</td>\n",
       "      <td>171</td>\n",
       "      <td>67</td>\n",
       "      <td>24</td>\n",
       "    </tr>\n",
       "    <tr>\n",
       "      <td>1</td>\n",
       "      <td>cricket</td>\n",
       "      <td>183</td>\n",
       "      <td>74</td>\n",
       "      <td>25</td>\n",
       "    </tr>\n",
       "    <tr>\n",
       "      <td>2</td>\n",
       "      <td>cricket</td>\n",
       "      <td>182</td>\n",
       "      <td>76</td>\n",
       "      <td>24</td>\n",
       "    </tr>\n",
       "    <tr>\n",
       "      <td>3</td>\n",
       "      <td>cricket</td>\n",
       "      <td>181</td>\n",
       "      <td>69</td>\n",
       "      <td>24</td>\n",
       "    </tr>\n",
       "    <tr>\n",
       "      <td>4</td>\n",
       "      <td>cricket</td>\n",
       "      <td>183</td>\n",
       "      <td>71</td>\n",
       "      <td>25</td>\n",
       "    </tr>\n",
       "    <tr>\n",
       "      <td>...</td>\n",
       "      <td>...</td>\n",
       "      <td>...</td>\n",
       "      <td>...</td>\n",
       "      <td>...</td>\n",
       "    </tr>\n",
       "    <tr>\n",
       "      <td>153</td>\n",
       "      <td>longjump</td>\n",
       "      <td>184</td>\n",
       "      <td>128</td>\n",
       "      <td>30</td>\n",
       "    </tr>\n",
       "    <tr>\n",
       "      <td>154</td>\n",
       "      <td>longjump</td>\n",
       "      <td>183</td>\n",
       "      <td>126</td>\n",
       "      <td>30</td>\n",
       "    </tr>\n",
       "    <tr>\n",
       "      <td>155</td>\n",
       "      <td>longjump</td>\n",
       "      <td>184</td>\n",
       "      <td>126</td>\n",
       "      <td>30</td>\n",
       "    </tr>\n",
       "    <tr>\n",
       "      <td>156</td>\n",
       "      <td>longjump</td>\n",
       "      <td>189</td>\n",
       "      <td>127</td>\n",
       "      <td>30</td>\n",
       "    </tr>\n",
       "    <tr>\n",
       "      <td>157</td>\n",
       "      <td>longjump</td>\n",
       "      <td>189</td>\n",
       "      <td>127</td>\n",
       "      <td>29</td>\n",
       "    </tr>\n",
       "  </tbody>\n",
       "</table>\n",
       "<p>158 rows × 4 columns</p>\n",
       "</div>"
      ],
      "text/plain": [
       "       sports  Height  Weight  BMI\n",
       "0     cricket     171      67   24\n",
       "1     cricket     183      74   25\n",
       "2     cricket     182      76   24\n",
       "3     cricket     181      69   24\n",
       "4     cricket     183      71   25\n",
       "..        ...     ...     ...  ...\n",
       "153  longjump     184     128   30\n",
       "154  longjump     183     126   30\n",
       "155  longjump     184     126   30\n",
       "156  longjump     189     127   30\n",
       "157  longjump     189     127   29\n",
       "\n",
       "[158 rows x 4 columns]"
      ]
     },
     "execution_count": 7,
     "metadata": {},
     "output_type": "execute_result"
    }
   ],
   "source": [
    "#Represents dataset\n",
    "df\n"
   ]
  },
  {
   "cell_type": "code",
   "execution_count": 8,
   "metadata": {},
   "outputs": [],
   "source": [
    "#Get unique names\n",
    "fsports=df.sports.unique()"
   ]
  },
  {
   "cell_type": "code",
   "execution_count": 9,
   "metadata": {},
   "outputs": [
    {
     "data": {
      "text/plain": [
       "array(['cricket', 'sumo', 'basketball', 'gymastics', 'rowing', 'tennis',\n",
       "       'shortput', 'longjump'], dtype=object)"
      ]
     },
     "execution_count": 9,
     "metadata": {},
     "output_type": "execute_result"
    }
   ],
   "source": [
    "fsports"
   ]
  },
  {
   "cell_type": "code",
   "execution_count": 10,
   "metadata": {},
   "outputs": [],
   "source": [
    "#Split the input\n",
    "x=df.iloc[:,[1,2,3]].values"
   ]
  },
  {
   "cell_type": "code",
   "execution_count": 11,
   "metadata": {},
   "outputs": [],
   "source": [
    "#split the output\n",
    "y=df.iloc[:,[0]].values"
   ]
  },
  {
   "cell_type": "code",
   "execution_count": 12,
   "metadata": {},
   "outputs": [
    {
     "data": {
      "text/plain": [
       "array([[171,  67,  24],\n",
       "       [183,  74,  25],\n",
       "       [182,  76,  24],\n",
       "       [181,  69,  24],\n",
       "       [183,  71,  25],\n",
       "       [171,  67,  25],\n",
       "       [164,  65,  26],\n",
       "       [189,  76,  25],\n",
       "       [188,  75,  25],\n",
       "       [177,  72,  24],\n",
       "       [179,  73,  25],\n",
       "       [178,  68,  26],\n",
       "       [176,  69,  25],\n",
       "       [183,  76,  26],\n",
       "       [182,  72,  26],\n",
       "       [182,  70,  26],\n",
       "       [190,  78,  25],\n",
       "       [182,  65,  25],\n",
       "       [182,  66,  25],\n",
       "       [175, 156,  39],\n",
       "       [176, 162,  40],\n",
       "       [178, 170,  41],\n",
       "       [180, 148,  39],\n",
       "       [181, 176,  39],\n",
       "       [184, 166,  39],\n",
       "       [186, 165,  39],\n",
       "       [190, 159,  40],\n",
       "       [185, 162,  40],\n",
       "       [188, 166,  39],\n",
       "       [192, 169,  38],\n",
       "       [179, 166,  37],\n",
       "       [187, 151,  37],\n",
       "       [189, 160,  38],\n",
       "       [178, 168,  39],\n",
       "       [188, 157,  38],\n",
       "       [187, 151,  38],\n",
       "       [188, 173,  40],\n",
       "       [229, 120,  30],\n",
       "       [229,  91,  30],\n",
       "       [224,  98,  30],\n",
       "       [224, 100,  31],\n",
       "       [224, 113,  31],\n",
       "       [221, 114,  32],\n",
       "       [218, 112,  31],\n",
       "       [218, 107,  31],\n",
       "       [219, 105,  32],\n",
       "       [216, 105,  32],\n",
       "       [213, 113,  33],\n",
       "       [218, 115,  31],\n",
       "       [219,  97,  31],\n",
       "       [230,  96,  31],\n",
       "       [229, 109,  31],\n",
       "       [225, 120,  30],\n",
       "       [211, 101,  30],\n",
       "       [213,  99,  31],\n",
       "       [213,  95,  30],\n",
       "       [214,  95,  31],\n",
       "       [199,  89,  31],\n",
       "       [204,  88,  31],\n",
       "       [203,  88,  32],\n",
       "       [205,  89,  30],\n",
       "       [205,  90,  30],\n",
       "       [151,  40,  15],\n",
       "       [152,  40,  18],\n",
       "       [153,  45,  18],\n",
       "       [154,  46,  18],\n",
       "       [156,  47,  17],\n",
       "       [155,  48,  18],\n",
       "       [157,  47,  18],\n",
       "       [150,  48,  18],\n",
       "       [159,  45,  18],\n",
       "       [158,  43,  17],\n",
       "       [160,  41,  17],\n",
       "       [159,  41,  18],\n",
       "       [150,  41,  18],\n",
       "       [150,  40,  17],\n",
       "       [155,  43,  18],\n",
       "       [149,  48,  18],\n",
       "       [145,  49,  17],\n",
       "       [160,  49,  17],\n",
       "       [160,  49,  14],\n",
       "       [159,  45,  15],\n",
       "       [158,  47,  16],\n",
       "       [158,  47,  17],\n",
       "       [159,  48,  17],\n",
       "       [155,  43,  18],\n",
       "       [188,  65,  18],\n",
       "       [187,  66,  19],\n",
       "       [191,  66,  20],\n",
       "       [192,  69,  20],\n",
       "       [193,  69,  19],\n",
       "       [194,  69,  20],\n",
       "       [195,  69,  19],\n",
       "       [190,  69,  20],\n",
       "       [189,  67,  20],\n",
       "       [193,  60,  20],\n",
       "       [194,  65,  28],\n",
       "       [195,  67,  19],\n",
       "       [196,  70,  20],\n",
       "       [189,  68,  19],\n",
       "       [190,  65,  20],\n",
       "       [191,  65,  19],\n",
       "       [185,  76,  20],\n",
       "       [189,  78,  20],\n",
       "       [188,  79,  21],\n",
       "       [188,  80,  21],\n",
       "       [185,  76,  22],\n",
       "       [184,  77,  22],\n",
       "       [184,  79,  21],\n",
       "       [187,  74,  21],\n",
       "       [189,  78,  21],\n",
       "       [188,  75,  20],\n",
       "       [188,  79,  20],\n",
       "       [189,  77,  21],\n",
       "       [184,  74,  22],\n",
       "       [186,  76,  21],\n",
       "       [185,  80,  21],\n",
       "       [190,  40,  31],\n",
       "       [190,  42,  31],\n",
       "       [190,  42,  32],\n",
       "       [195,  43,  31],\n",
       "       [199,  43,  31],\n",
       "       [189, 110,  30],\n",
       "       [188, 120,  31],\n",
       "       [189, 130,  31],\n",
       "       [195, 130,  30],\n",
       "       [195, 120,  31],\n",
       "       [188, 130,  30],\n",
       "       [186, 120,  30],\n",
       "       [186, 125,  32],\n",
       "       [183, 124,  31],\n",
       "       [184, 124,  31],\n",
       "       [184, 124,  31],\n",
       "       [180, 125,  30],\n",
       "       [179, 130,  28],\n",
       "       [182, 120,  28],\n",
       "       [182, 132,  29],\n",
       "       [181, 120,  28],\n",
       "       [179, 119,  29],\n",
       "       [179, 120,  29],\n",
       "       [182, 120,  29],\n",
       "       [184, 123,  28],\n",
       "       [184, 122,  29],\n",
       "       [183, 122,  29],\n",
       "       [183, 129,  30],\n",
       "       [183, 129,  30],\n",
       "       [188, 129,  28],\n",
       "       [184, 128,  28],\n",
       "       [189, 127,  28],\n",
       "       [189, 127,  28],\n",
       "       [188, 127,  29],\n",
       "       [183, 127,  29],\n",
       "       [185, 128,  30],\n",
       "       [184, 128,  30],\n",
       "       [183, 126,  30],\n",
       "       [184, 126,  30],\n",
       "       [189, 127,  30],\n",
       "       [189, 127,  29]], dtype=int64)"
      ]
     },
     "execution_count": 12,
     "metadata": {},
     "output_type": "execute_result"
    }
   ],
   "source": [
    "#values\n",
    "x"
   ]
  },
  {
   "cell_type": "code",
   "execution_count": 13,
   "metadata": {},
   "outputs": [
    {
     "data": {
      "text/plain": [
       "array([['cricket'],\n",
       "       ['cricket'],\n",
       "       ['cricket'],\n",
       "       ['cricket'],\n",
       "       ['cricket'],\n",
       "       ['cricket'],\n",
       "       ['cricket'],\n",
       "       ['cricket'],\n",
       "       ['cricket'],\n",
       "       ['cricket'],\n",
       "       ['cricket'],\n",
       "       ['cricket'],\n",
       "       ['cricket'],\n",
       "       ['cricket'],\n",
       "       ['cricket'],\n",
       "       ['cricket'],\n",
       "       ['cricket'],\n",
       "       ['cricket'],\n",
       "       ['cricket'],\n",
       "       ['sumo'],\n",
       "       ['sumo'],\n",
       "       ['sumo'],\n",
       "       ['sumo'],\n",
       "       ['sumo'],\n",
       "       ['sumo'],\n",
       "       ['sumo'],\n",
       "       ['sumo'],\n",
       "       ['sumo'],\n",
       "       ['sumo'],\n",
       "       ['sumo'],\n",
       "       ['sumo'],\n",
       "       ['sumo'],\n",
       "       ['sumo'],\n",
       "       ['sumo'],\n",
       "       ['sumo'],\n",
       "       ['sumo'],\n",
       "       ['sumo'],\n",
       "       ['basketball'],\n",
       "       ['basketball'],\n",
       "       ['basketball'],\n",
       "       ['basketball'],\n",
       "       ['basketball'],\n",
       "       ['basketball'],\n",
       "       ['basketball'],\n",
       "       ['basketball'],\n",
       "       ['basketball'],\n",
       "       ['basketball'],\n",
       "       ['basketball'],\n",
       "       ['basketball'],\n",
       "       ['basketball'],\n",
       "       ['basketball'],\n",
       "       ['basketball'],\n",
       "       ['basketball'],\n",
       "       ['basketball'],\n",
       "       ['basketball'],\n",
       "       ['basketball'],\n",
       "       ['basketball'],\n",
       "       ['basketball'],\n",
       "       ['basketball'],\n",
       "       ['basketball'],\n",
       "       ['basketball'],\n",
       "       ['basketball'],\n",
       "       ['gymastics'],\n",
       "       ['gymastics'],\n",
       "       ['gymastics'],\n",
       "       ['gymastics'],\n",
       "       ['gymastics'],\n",
       "       ['gymastics'],\n",
       "       ['gymastics'],\n",
       "       ['gymastics'],\n",
       "       ['gymastics'],\n",
       "       ['gymastics'],\n",
       "       ['gymastics'],\n",
       "       ['gymastics'],\n",
       "       ['gymastics'],\n",
       "       ['gymastics'],\n",
       "       ['gymastics'],\n",
       "       ['gymastics'],\n",
       "       ['gymastics'],\n",
       "       ['gymastics'],\n",
       "       ['gymastics'],\n",
       "       ['gymastics'],\n",
       "       ['gymastics'],\n",
       "       ['gymastics'],\n",
       "       ['gymastics'],\n",
       "       ['gymastics'],\n",
       "       ['rowing'],\n",
       "       ['rowing'],\n",
       "       ['rowing'],\n",
       "       ['rowing'],\n",
       "       ['rowing'],\n",
       "       ['rowing'],\n",
       "       ['rowing'],\n",
       "       ['rowing'],\n",
       "       ['rowing'],\n",
       "       ['rowing'],\n",
       "       ['rowing'],\n",
       "       ['rowing'],\n",
       "       ['rowing'],\n",
       "       ['rowing'],\n",
       "       ['rowing'],\n",
       "       ['rowing'],\n",
       "       ['tennis'],\n",
       "       ['tennis'],\n",
       "       ['tennis'],\n",
       "       ['tennis'],\n",
       "       ['tennis'],\n",
       "       ['tennis'],\n",
       "       ['tennis'],\n",
       "       ['tennis'],\n",
       "       ['tennis'],\n",
       "       ['tennis'],\n",
       "       ['tennis'],\n",
       "       ['tennis'],\n",
       "       ['tennis'],\n",
       "       ['tennis'],\n",
       "       ['tennis'],\n",
       "       ['shortput'],\n",
       "       ['shortput'],\n",
       "       ['shortput'],\n",
       "       ['shortput'],\n",
       "       ['shortput'],\n",
       "       ['shortput'],\n",
       "       ['shortput'],\n",
       "       ['shortput'],\n",
       "       ['shortput'],\n",
       "       ['shortput'],\n",
       "       ['shortput'],\n",
       "       ['shortput'],\n",
       "       ['shortput'],\n",
       "       ['shortput'],\n",
       "       ['shortput'],\n",
       "       ['shortput'],\n",
       "       ['longjump'],\n",
       "       ['longjump'],\n",
       "       ['longjump'],\n",
       "       ['longjump'],\n",
       "       ['longjump'],\n",
       "       ['longjump'],\n",
       "       ['longjump'],\n",
       "       ['longjump'],\n",
       "       ['longjump'],\n",
       "       ['longjump'],\n",
       "       ['longjump'],\n",
       "       ['longjump'],\n",
       "       ['longjump'],\n",
       "       ['longjump'],\n",
       "       ['longjump'],\n",
       "       ['longjump'],\n",
       "       ['longjump'],\n",
       "       ['longjump'],\n",
       "       ['longjump'],\n",
       "       ['longjump'],\n",
       "       ['longjump'],\n",
       "       ['longjump'],\n",
       "       ['longjump'],\n",
       "       ['longjump'],\n",
       "       ['longjump']], dtype=object)"
      ]
     },
     "execution_count": 13,
     "metadata": {},
     "output_type": "execute_result"
    }
   ],
   "source": [
    "#values\n",
    "y"
   ]
  },
  {
   "cell_type": "code",
   "execution_count": 14,
   "metadata": {},
   "outputs": [],
   "source": [
    "fsports=df.sports.unique()"
   ]
  },
  {
   "cell_type": "code",
   "execution_count": 15,
   "metadata": {},
   "outputs": [
    {
     "data": {
      "text/plain": [
       "array(['cricket', 'sumo', 'basketball', 'gymastics', 'rowing', 'tennis',\n",
       "       'shortput', 'longjump'], dtype=object)"
      ]
     },
     "execution_count": 15,
     "metadata": {},
     "output_type": "execute_result"
    }
   ],
   "source": [
    "fsports"
   ]
  },
  {
   "cell_type": "code",
   "execution_count": 16,
   "metadata": {},
   "outputs": [],
   "source": [
    "#Split the data\n",
    "from sklearn.model_selection import train_test_split"
   ]
  },
  {
   "cell_type": "code",
   "execution_count": 17,
   "metadata": {},
   "outputs": [],
   "source": [
    "#Spliting into traning and testing values\n",
    "x_train,x_test,y_train,y_test=train_test_split(x,y,random_state=0)"
   ]
  },
  {
   "cell_type": "code",
   "execution_count": 18,
   "metadata": {},
   "outputs": [],
   "source": [
    "#normalize to get the standard values\n",
    "from sklearn.preprocessing import StandardScaler"
   ]
  },
  {
   "cell_type": "code",
   "execution_count": 19,
   "metadata": {},
   "outputs": [],
   "source": [
    "std=StandardScaler()"
   ]
  },
  {
   "cell_type": "code",
   "execution_count": 20,
   "metadata": {},
   "outputs": [],
   "source": [
    "x_train=std.fit_transform(x_train)\n",
    "x_test=std.fit_transform(x_test)"
   ]
  },
  {
   "cell_type": "code",
   "execution_count": 21,
   "metadata": {},
   "outputs": [],
   "source": [
    "from sklearn.tree import DecisionTreeClassifier"
   ]
  },
  {
   "cell_type": "code",
   "execution_count": 22,
   "metadata": {},
   "outputs": [],
   "source": [
    "model=DecisionTreeClassifier()"
   ]
  },
  {
   "cell_type": "code",
   "execution_count": 23,
   "metadata": {},
   "outputs": [
    {
     "data": {
      "text/plain": [
       "DecisionTreeClassifier(class_weight=None, criterion='gini', max_depth=None,\n",
       "                       max_features=None, max_leaf_nodes=None,\n",
       "                       min_impurity_decrease=0.0, min_impurity_split=None,\n",
       "                       min_samples_leaf=1, min_samples_split=2,\n",
       "                       min_weight_fraction_leaf=0.0, presort=False,\n",
       "                       random_state=None, splitter='best')"
      ]
     },
     "execution_count": 23,
     "metadata": {},
     "output_type": "execute_result"
    }
   ],
   "source": [
    "model.fit(x_train,y_train)"
   ]
  },
  {
   "cell_type": "code",
   "execution_count": 24,
   "metadata": {},
   "outputs": [],
   "source": [
    "y_predict=model.predict(x_test)"
   ]
  },
  {
   "cell_type": "code",
   "execution_count": 25,
   "metadata": {},
   "outputs": [
    {
     "data": {
      "text/plain": [
       "array(['cricket', 'basketball', 'rowing', 'shortput', 'gymastics',\n",
       "       'longjump', 'shortput', 'longjump', 'rowing', 'rowing', 'sumo',\n",
       "       'cricket', 'sumo', 'basketball', 'gymastics', 'rowing', 'shortput',\n",
       "       'rowing', 'longjump', 'basketball', 'basketball', 'sumo',\n",
       "       'shortput', 'cricket', 'basketball', 'basketball', 'rowing',\n",
       "       'sumo', 'longjump', 'tennis', 'basketball', 'basketball',\n",
       "       'cricket', 'longjump', 'cricket', 'sumo', 'rowing', 'gymastics',\n",
       "       'tennis', 'rowing'], dtype=object)"
      ]
     },
     "execution_count": 25,
     "metadata": {},
     "output_type": "execute_result"
    }
   ],
   "source": [
    "y_predict"
   ]
  },
  {
   "cell_type": "code",
   "execution_count": 26,
   "metadata": {},
   "outputs": [
    {
     "data": {
      "text/plain": [
       "array([['cricket'],\n",
       "       ['basketball'],\n",
       "       ['tennis'],\n",
       "       ['shortput'],\n",
       "       ['gymastics'],\n",
       "       ['shortput'],\n",
       "       ['shortput'],\n",
       "       ['longjump'],\n",
       "       ['tennis'],\n",
       "       ['rowing'],\n",
       "       ['sumo'],\n",
       "       ['longjump'],\n",
       "       ['sumo'],\n",
       "       ['basketball'],\n",
       "       ['gymastics'],\n",
       "       ['rowing'],\n",
       "       ['shortput'],\n",
       "       ['rowing'],\n",
       "       ['longjump'],\n",
       "       ['basketball'],\n",
       "       ['basketball'],\n",
       "       ['sumo'],\n",
       "       ['basketball'],\n",
       "       ['cricket'],\n",
       "       ['basketball'],\n",
       "       ['basketball'],\n",
       "       ['rowing'],\n",
       "       ['sumo'],\n",
       "       ['longjump'],\n",
       "       ['tennis'],\n",
       "       ['basketball'],\n",
       "       ['basketball'],\n",
       "       ['cricket'],\n",
       "       ['shortput'],\n",
       "       ['longjump'],\n",
       "       ['sumo'],\n",
       "       ['rowing'],\n",
       "       ['gymastics'],\n",
       "       ['tennis'],\n",
       "       ['rowing']], dtype=object)"
      ]
     },
     "execution_count": 26,
     "metadata": {},
     "output_type": "execute_result"
    }
   ],
   "source": [
    "y_test"
   ]
  },
  {
   "cell_type": "code",
   "execution_count": 27,
   "metadata": {},
   "outputs": [
    {
     "data": {
      "text/plain": [
       "82.5"
      ]
     },
     "execution_count": 27,
     "metadata": {},
     "output_type": "execute_result"
    }
   ],
   "source": [
    "model.score(x_test,y_test)*100"
   ]
  },
  {
   "cell_type": "code",
   "execution_count": 28,
   "metadata": {},
   "outputs": [],
   "source": [
    "from sklearn.neighbors import KNeighborsClassifier"
   ]
  },
  {
   "cell_type": "code",
   "execution_count": 29,
   "metadata": {},
   "outputs": [],
   "source": [
    "model=KNeighborsClassifier(n_neighbors=4,metric='euclidean')"
   ]
  },
  {
   "cell_type": "code",
   "execution_count": 30,
   "metadata": {},
   "outputs": [
    {
     "name": "stderr",
     "output_type": "stream",
     "text": [
      "C:\\Users\\vsulg\\Anaconda3\\lib\\site-packages\\ipykernel_launcher.py:1: DataConversionWarning: A column-vector y was passed when a 1d array was expected. Please change the shape of y to (n_samples, ), for example using ravel().\n",
      "  \"\"\"Entry point for launching an IPython kernel.\n"
     ]
    },
    {
     "data": {
      "text/plain": [
       "KNeighborsClassifier(algorithm='auto', leaf_size=30, metric='euclidean',\n",
       "                     metric_params=None, n_jobs=None, n_neighbors=4, p=2,\n",
       "                     weights='uniform')"
      ]
     },
     "execution_count": 30,
     "metadata": {},
     "output_type": "execute_result"
    }
   ],
   "source": [
    "model.fit(x_train,y_train)"
   ]
  },
  {
   "cell_type": "code",
   "execution_count": 31,
   "metadata": {},
   "outputs": [
    {
     "name": "stdout",
     "output_type": "stream",
     "text": [
      "['cricket' 'basketball' 'tennis' 'shortput' 'gymastics' 'longjump'\n",
      " 'shortput' 'longjump' 'tennis' 'rowing' 'sumo' 'longjump' 'sumo'\n",
      " 'basketball' 'gymastics' 'rowing' 'longjump' 'rowing' 'longjump'\n",
      " 'basketball' 'basketball' 'sumo' 'basketball' 'cricket' 'basketball'\n",
      " 'basketball' 'rowing' 'sumo' 'longjump' 'tennis' 'basketball'\n",
      " 'basketball' 'cricket' 'longjump' 'longjump' 'sumo' 'rowing' 'gymastics'\n",
      " 'tennis' 'rowing']\n"
     ]
    }
   ],
   "source": [
    "print(model.predict(x_test))"
   ]
  },
  {
   "cell_type": "code",
   "execution_count": 32,
   "metadata": {},
   "outputs": [
    {
     "data": {
      "text/plain": [
       "92.5"
      ]
     },
     "execution_count": 32,
     "metadata": {},
     "output_type": "execute_result"
    }
   ],
   "source": [
    "model.score(x_test,y_test)*100"
   ]
  },
  {
   "cell_type": "code",
   "execution_count": 33,
   "metadata": {},
   "outputs": [
    {
     "data": {
      "text/plain": [
       "array(['cricket', 'basketball', 'rowing', 'shortput', 'gymastics',\n",
       "       'longjump', 'shortput', 'longjump', 'rowing', 'rowing', 'sumo',\n",
       "       'cricket', 'sumo', 'basketball', 'gymastics', 'rowing', 'shortput',\n",
       "       'rowing', 'longjump', 'basketball', 'basketball', 'sumo',\n",
       "       'shortput', 'cricket', 'basketball', 'basketball', 'rowing',\n",
       "       'sumo', 'longjump', 'tennis', 'basketball', 'basketball',\n",
       "       'cricket', 'longjump', 'cricket', 'sumo', 'rowing', 'gymastics',\n",
       "       'tennis', 'rowing'], dtype=object)"
      ]
     },
     "execution_count": 33,
     "metadata": {},
     "output_type": "execute_result"
    }
   ],
   "source": [
    "y_predict"
   ]
  },
  {
   "cell_type": "code",
   "execution_count": 34,
   "metadata": {},
   "outputs": [
    {
     "data": {
      "text/plain": [
       "array([['cricket'],\n",
       "       ['basketball'],\n",
       "       ['tennis'],\n",
       "       ['shortput'],\n",
       "       ['gymastics'],\n",
       "       ['shortput'],\n",
       "       ['shortput'],\n",
       "       ['longjump'],\n",
       "       ['tennis'],\n",
       "       ['rowing'],\n",
       "       ['sumo'],\n",
       "       ['longjump'],\n",
       "       ['sumo'],\n",
       "       ['basketball'],\n",
       "       ['gymastics'],\n",
       "       ['rowing'],\n",
       "       ['shortput'],\n",
       "       ['rowing'],\n",
       "       ['longjump'],\n",
       "       ['basketball'],\n",
       "       ['basketball'],\n",
       "       ['sumo'],\n",
       "       ['basketball'],\n",
       "       ['cricket'],\n",
       "       ['basketball'],\n",
       "       ['basketball'],\n",
       "       ['rowing'],\n",
       "       ['sumo'],\n",
       "       ['longjump'],\n",
       "       ['tennis'],\n",
       "       ['basketball'],\n",
       "       ['basketball'],\n",
       "       ['cricket'],\n",
       "       ['shortput'],\n",
       "       ['longjump'],\n",
       "       ['sumo'],\n",
       "       ['rowing'],\n",
       "       ['gymastics'],\n",
       "       ['tennis'],\n",
       "       ['rowing']], dtype=object)"
      ]
     },
     "execution_count": 34,
     "metadata": {},
     "output_type": "execute_result"
    }
   ],
   "source": [
    "y_test"
   ]
  },
  {
   "cell_type": "code",
   "execution_count": null,
   "metadata": {},
   "outputs": [],
   "source": []
  },
  {
   "cell_type": "code",
   "execution_count": null,
   "metadata": {},
   "outputs": [],
   "source": []
  }
 ],
 "metadata": {
  "kernelspec": {
   "display_name": "Python 3",
   "language": "python",
   "name": "python3"
  },
  "language_info": {
   "codemirror_mode": {
    "name": "ipython",
    "version": 3
   },
   "file_extension": ".py",
   "mimetype": "text/x-python",
   "name": "python",
   "nbconvert_exporter": "python",
   "pygments_lexer": "ipython3",
   "version": "3.7.1"
  }
 },
 "nbformat": 4,
 "nbformat_minor": 4
}
